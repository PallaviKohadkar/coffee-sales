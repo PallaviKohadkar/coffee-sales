{
 "cells": [
  {
   "cell_type": "markdown",
   "id": "669c8a1a",
   "metadata": {},
   "source": [
    "\n",
    "# ☕ Coffee Sales Analysis Project\n",
    "\n",
    "This project analyzes **Coffee Shop Sales Data** to extract insights about customer purchasing patterns, \n",
    "sales trends, and builds a **basic predictive model** for sales.\n",
    "\n",
    "### Objectives:\n",
    "- Data Cleaning & Preparation  \n",
    "- Exploratory Data Analysis (EDA)  \n",
    "- Time-based sales insights (daily, weekly, hourly)  \n",
    "- Machine Learning model to predict sales  \n",
    "- Business Insights  \n"
   ]
  },
  {
   "cell_type": "code",
   "execution_count": null,
   "id": "743777d9",
   "metadata": {},
   "outputs": [],
   "source": [
    "\n",
    "# =======================\n",
    "# 1. Import Libraries\n",
    "# =======================\n",
    "import pandas as pd\n",
    "import numpy as np\n",
    "import matplotlib.pyplot as plt\n",
    "import seaborn as sns\n",
    "from sklearn.model_selection import train_test_split\n",
    "from sklearn.linear_model import LinearRegression\n",
    "from sklearn.metrics import mean_squared_error, r2_score\n",
    "import warnings\n",
    "warnings.filterwarnings(\"ignore\")\n",
    "\n",
    "sns.set(style=\"whitegrid\")\n"
   ]
  },
  {
   "cell_type": "code",
   "execution_count": null,
   "id": "e6dba97c",
   "metadata": {},
   "outputs": [],
   "source": [
    "\n",
    "# =======================\n",
    "# 2. Load Dataset\n",
    "# =======================\n",
    "df = pd.read_csv(\"coffee_shop_sales.csv\")\n",
    "\n",
    "print(\"Dataset Shape:\", df.shape)\n",
    "df.head()\n"
   ]
  },
  {
   "cell_type": "code",
   "execution_count": null,
   "id": "8869100a",
   "metadata": {},
   "outputs": [],
   "source": [
    "\n",
    "# =======================\n",
    "# 3. Data Cleaning\n",
    "# =======================\n",
    "df['date'] = pd.to_datetime(df['date'])\n",
    "df['datetime'] = pd.to_datetime(df['datetime'])\n",
    "df['card'].fillna(\"Cash_Customer\", inplace=True)\n",
    "\n",
    "print(\"Duplicate rows:\", df.duplicated().sum())\n",
    "df.drop_duplicates(inplace=True)\n",
    "df.info()\n"
   ]
  },
  {
   "cell_type": "code",
   "execution_count": null,
   "id": "3256dcd5",
   "metadata": {},
   "outputs": [],
   "source": [
    "\n",
    "# =======================\n",
    "# 4. Feature Engineering\n",
    "# =======================\n",
    "df['month'] = df['date'].dt.strftime('%Y-%m')\n",
    "df['day'] = df['date'].dt.day_name()\n",
    "df['hour'] = df['datetime'].dt.hour\n",
    "\n",
    "df.head()\n"
   ]
  },
  {
   "cell_type": "code",
   "execution_count": null,
   "id": "010f2bc6",
   "metadata": {},
   "outputs": [],
   "source": [
    "\n",
    "# =======================\n",
    "# 5. Exploratory Data Analysis (EDA)\n",
    "# =======================\n",
    "\n",
    "# Revenue by coffee product\n",
    "revenue_data = df.groupby('coffee_name')['money'].sum().sort_values(ascending=False)\n",
    "plt.figure(figsize=(10,5))\n",
    "sns.barplot(x=revenue_data.values, y=revenue_data.index, palette=\"viridis\")\n",
    "plt.title(\"Revenue by Coffee Product\")\n",
    "plt.xlabel(\"Total Revenue\")\n",
    "plt.ylabel(\"Coffee Type\")\n",
    "plt.show()\n"
   ]
  },
  {
   "cell_type": "code",
   "execution_count": null,
   "id": "b587b504",
   "metadata": {},
   "outputs": [],
   "source": [
    "\n",
    "# Monthly Sales Trend\n",
    "monthly_sales = df.groupby('month')['money'].sum()\n",
    "plt.figure(figsize=(10,5))\n",
    "monthly_sales.plot(marker='o')\n",
    "plt.title(\"Monthly Sales Trend\")\n",
    "plt.xlabel(\"Month\")\n",
    "plt.ylabel(\"Revenue\")\n",
    "plt.grid(True)\n",
    "plt.show()\n"
   ]
  },
  {
   "cell_type": "code",
   "execution_count": null,
   "id": "f72ccf69",
   "metadata": {},
   "outputs": [],
   "source": [
    "\n",
    "# Sales by Day of Week\n",
    "plt.figure(figsize=(8,5))\n",
    "sns.barplot(x=df['day'], y=df['money'], estimator=sum, \n",
    "            order=[\"Monday\",\"Tuesday\",\"Wednesday\",\"Thursday\",\"Friday\",\"Saturday\",\"Sunday\"])\n",
    "plt.title(\"Sales by Day of Week\")\n",
    "plt.show()\n"
   ]
  },
  {
   "cell_type": "code",
   "execution_count": null,
   "id": "3c88bde9",
   "metadata": {},
   "outputs": [],
   "source": [
    "\n",
    "# Sales by Hour\n",
    "plt.figure(figsize=(12,5))\n",
    "sns.lineplot(x=df['hour'], y=df['money'], estimator=sum, ci=None, marker='o')\n",
    "plt.title(\"Hourly Sales Pattern\")\n",
    "plt.xlabel(\"Hour of Day\")\n",
    "plt.ylabel(\"Revenue\")\n",
    "plt.show()\n"
   ]
  },
  {
   "cell_type": "code",
   "execution_count": null,
   "id": "ead57455",
   "metadata": {},
   "outputs": [],
   "source": [
    "\n",
    "# =======================\n",
    "# 6. Machine Learning - Predict Sales\n",
    "# =======================\n",
    "ml_data = df.copy()\n",
    "ml_data['day_num'] = ml_data['date'].dt.day\n",
    "ml_data['weekday'] = ml_data['date'].dt.weekday\n",
    "\n",
    "X = ml_data[['day_num', 'hour', 'weekday']]\n",
    "y = ml_data['money']\n",
    "\n",
    "X_train, X_test, y_train, y_test = train_test_split(X, y, test_size=0.2, random_state=42)\n",
    "\n",
    "model = LinearRegression()\n",
    "model.fit(X_train, y_train)\n",
    "\n",
    "y_pred = model.predict(X_test)\n",
    "\n",
    "print(\"Mean Squared Error:\", mean_squared_error(y_test, y_pred))\n",
    "print(\"R^2 Score:\", r2_score(y_test, y_pred))\n",
    "\n",
    "coefficients = pd.DataFrame(model.coef_, X.columns, columns=['Coefficient'])\n",
    "coefficients\n"
   ]
  },
  {
   "cell_type": "code",
   "execution_count": null,
   "id": "b965d8e6",
   "metadata": {},
   "outputs": [],
   "source": [
    "\n",
    "# =======================\n",
    "# 7. Insights\n",
    "# =======================\n",
    "print(\"\\n📌 Key Insights:\")\n",
    "print(\"- Top-selling product:\", revenue_data.idxmax())\n",
    "print(\"- Highest revenue month:\", monthly_sales.idxmax())\n",
    "print(\"- Peak sales day:\", df.groupby('day')['money'].sum().idxmax())\n",
    "print(\"- Peak sales hour:\", df.groupby('hour')['money'].sum().idxmax())\n"
   ]
  }
 ],
 "metadata": {},
 "nbformat": 4,
 "nbformat_minor": 5
}